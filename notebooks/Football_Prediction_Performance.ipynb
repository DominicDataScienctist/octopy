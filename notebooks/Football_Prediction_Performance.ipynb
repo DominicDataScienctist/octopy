{
  "nbformat": 4,
  "nbformat_minor": 0,
  "metadata": {
    "colab": {
      "name": "Football_Prediction_Performance",
      "provenance": []
    },
    "kernelspec": {
      "name": "python3",
      "display_name": "Python 3"
    },
    "language_info": {
      "name": "python"
    }
  },
  "cells": [
    {
      "cell_type": "markdown",
      "metadata": {
        "id": "nWMwniqxbjSl"
      },
      "source": [
        "This notebook shows an example of the model presented in the following [Medium article](https://medium.com/@octosport/football-prediction-performance-how-to-calculate-hit-ratio-and-log-loss-1e5e22310497).\n",
        "\n"
      ]
    },
    {
      "cell_type": "code",
      "metadata": {
        "colab": {
          "base_uri": "https://localhost:8080/"
        },
        "id": "cgAyTPvFZLn6",
        "outputId": "d79fd5fb-3601-46f2-b8eb-1b6a07d5cef2"
      },
      "source": [
        " !pip install git+https://github.com/octosport/octopy.git"
      ],
      "execution_count": 1,
      "outputs": [
        {
          "output_type": "stream",
          "name": "stdout",
          "text": [
            "Collecting git+https://github.com/octosport/octopy.git\n",
            "  Cloning https://github.com/octosport/octopy.git to /tmp/pip-req-build-7ziz3mph\n",
            "  Running command git clone -q https://github.com/octosport/octopy.git /tmp/pip-req-build-7ziz3mph\n",
            "Requirement already satisfied: pandas>=1.1.3 in /usr/local/lib/python3.7/dist-packages (from octopy==1.0.0) (1.1.5)\n",
            "Collecting scipy>=1.5.2\n",
            "  Downloading scipy-1.7.2-cp37-cp37m-manylinux_2_12_x86_64.manylinux2010_x86_64.whl (38.2 MB)\n",
            "\u001b[K     |████████████████████████████████| 38.2 MB 1.2 MB/s \n",
            "\u001b[?25hRequirement already satisfied: scikit-learn>=0.23.2 in /usr/local/lib/python3.7/dist-packages (from octopy==1.0.0) (1.0.1)\n",
            "Requirement already satisfied: jax>=0.2.17 in /usr/local/lib/python3.7/dist-packages (from octopy==1.0.0) (0.2.25)\n",
            "Requirement already satisfied: numpy>=1.18 in /usr/local/lib/python3.7/dist-packages (from jax>=0.2.17->octopy==1.0.0) (1.19.5)\n",
            "Requirement already satisfied: typing-extensions in /usr/local/lib/python3.7/dist-packages (from jax>=0.2.17->octopy==1.0.0) (3.10.0.2)\n",
            "Requirement already satisfied: absl-py in /usr/local/lib/python3.7/dist-packages (from jax>=0.2.17->octopy==1.0.0) (0.12.0)\n",
            "Requirement already satisfied: opt-einsum in /usr/local/lib/python3.7/dist-packages (from jax>=0.2.17->octopy==1.0.0) (3.3.0)\n",
            "Requirement already satisfied: pytz>=2017.2 in /usr/local/lib/python3.7/dist-packages (from pandas>=1.1.3->octopy==1.0.0) (2018.9)\n",
            "Requirement already satisfied: python-dateutil>=2.7.3 in /usr/local/lib/python3.7/dist-packages (from pandas>=1.1.3->octopy==1.0.0) (2.8.2)\n",
            "Requirement already satisfied: six>=1.5 in /usr/local/lib/python3.7/dist-packages (from python-dateutil>=2.7.3->pandas>=1.1.3->octopy==1.0.0) (1.15.0)\n",
            "Requirement already satisfied: joblib>=0.11 in /usr/local/lib/python3.7/dist-packages (from scikit-learn>=0.23.2->octopy==1.0.0) (1.1.0)\n",
            "Requirement already satisfied: threadpoolctl>=2.0.0 in /usr/local/lib/python3.7/dist-packages (from scikit-learn>=0.23.2->octopy==1.0.0) (3.0.0)\n",
            "Building wheels for collected packages: octopy\n",
            "  Building wheel for octopy (setup.py) ... \u001b[?25l\u001b[?25hdone\n",
            "  Created wheel for octopy: filename=octopy-1.0.0-py3-none-any.whl size=11771 sha256=a9ace9f464e3e264f517466726447d92e5a59406fe9e41f992fa7ad0b1d0e9ae\n",
            "  Stored in directory: /tmp/pip-ephem-wheel-cache-p7t30hqj/wheels/fe/92/b1/51d04bb184b9442db5fee66ec3acfdc85798cc4423d9fe40a0\n",
            "Successfully built octopy\n",
            "Installing collected packages: scipy, octopy\n",
            "  Attempting uninstall: scipy\n",
            "    Found existing installation: scipy 1.4.1\n",
            "    Uninstalling scipy-1.4.1:\n",
            "      Successfully uninstalled scipy-1.4.1\n",
            "\u001b[31mERROR: pip's dependency resolver does not currently take into account all the packages that are installed. This behaviour is the source of the following dependency conflicts.\n",
            "albumentations 0.1.12 requires imgaug<0.2.7,>=0.2.5, but you have imgaug 0.2.9 which is incompatible.\u001b[0m\n",
            "Successfully installed octopy-1.0.0 scipy-1.7.2\n"
          ]
        }
      ]
    },
    {
      "cell_type": "code",
      "metadata": {
        "id": "bg4pclXAY3nE"
      },
      "source": [
        "import pandas as pd\n",
        "import numpy as np\n",
        "from octopy.metrics import compute_1x2_log_loss, compute_1x2_hit_ratio\n",
        " \n",
        "data = pd.read_csv('https://raw.githubusercontent.com/octosport/octopy/master/data/epl.csv') #get some data\n",
        "\n",
        "#compute the winner\n",
        "data['1'] = (data['home_goals']>data['away_goals'])*1\n",
        "data['X'] = (data['home_goals']==data['away_goals'])*1\n",
        "data['2'] = (data['home_goals']<data['away_goals'])*1\n",
        " "
      ],
      "execution_count": 2,
      "outputs": []
    },
    {
      "cell_type": "code",
      "metadata": {
        "id": "vvrr9jP8Y4sH"
      },
      "source": [
        " #This is a random example, you should use your probabilities here.\n",
        "probabilities = pd.DataFrame(np.random.randint(1,100,size=data[['1','X','2']].shape),columns=['1','X','2'])\n",
        "probabilities = (probabilities.T/probabilities.sum(1)).T\n",
        "true_result = data[['1','X','2']].idxmax(1)\n",
        "\n",
        "#no need to add the index but index have to be the same.\n",
        "probabilities.index = [x+' - '+y for x,y in (data[['home','away']].values)]\n",
        "true_result.index = [x+' - '+y for x,y in (data[['home','away']].values)]\n"
      ],
      "execution_count": 3,
      "outputs": []
    },
    {
      "cell_type": "code",
      "metadata": {
        "colab": {
          "base_uri": "https://localhost:8080/",
          "height": 204
        },
        "id": "PHSlWZxCjcsW",
        "outputId": "7cc96af9-2e5d-401f-a31c-e859c0196a4d"
      },
      "source": [
        "#the probabilities dataframe\n",
        "probabilities.tail().round(2)"
      ],
      "execution_count": 4,
      "outputs": [
        {
          "output_type": "execute_result",
          "data": {
            "text/html": [
              "<div>\n",
              "<style scoped>\n",
              "    .dataframe tbody tr th:only-of-type {\n",
              "        vertical-align: middle;\n",
              "    }\n",
              "\n",
              "    .dataframe tbody tr th {\n",
              "        vertical-align: top;\n",
              "    }\n",
              "\n",
              "    .dataframe thead th {\n",
              "        text-align: right;\n",
              "    }\n",
              "</style>\n",
              "<table border=\"1\" class=\"dataframe\">\n",
              "  <thead>\n",
              "    <tr style=\"text-align: right;\">\n",
              "      <th></th>\n",
              "      <th>1</th>\n",
              "      <th>X</th>\n",
              "      <th>2</th>\n",
              "    </tr>\n",
              "  </thead>\n",
              "  <tbody>\n",
              "    <tr>\n",
              "      <th>Brighton and Hove Albion - Watford</th>\n",
              "      <td>0.28</td>\n",
              "      <td>0.23</td>\n",
              "      <td>0.49</td>\n",
              "    </tr>\n",
              "    <tr>\n",
              "      <th>Southampton - Manchester United</th>\n",
              "      <td>0.30</td>\n",
              "      <td>0.45</td>\n",
              "      <td>0.26</td>\n",
              "    </tr>\n",
              "    <tr>\n",
              "      <th>Wolverhampton - Tottenham Hotspur</th>\n",
              "      <td>0.42</td>\n",
              "      <td>0.57</td>\n",
              "      <td>0.01</td>\n",
              "    </tr>\n",
              "    <tr>\n",
              "      <th>Arsenal - Chelsea</th>\n",
              "      <td>0.26</td>\n",
              "      <td>0.26</td>\n",
              "      <td>0.49</td>\n",
              "    </tr>\n",
              "    <tr>\n",
              "      <th>West Ham United - Leicester City</th>\n",
              "      <td>0.51</td>\n",
              "      <td>0.40</td>\n",
              "      <td>0.09</td>\n",
              "    </tr>\n",
              "  </tbody>\n",
              "</table>\n",
              "</div>"
            ],
            "text/plain": [
              "                                       1     X     2\n",
              "Brighton and Hove Albion - Watford  0.28  0.23  0.49\n",
              "Southampton - Manchester United     0.30  0.45  0.26\n",
              "Wolverhampton - Tottenham Hotspur   0.42  0.57  0.01\n",
              "Arsenal - Chelsea                   0.26  0.26  0.49\n",
              "West Ham United - Leicester City    0.51  0.40  0.09"
            ]
          },
          "metadata": {},
          "execution_count": 4
        }
      ]
    },
    {
      "cell_type": "code",
      "metadata": {
        "colab": {
          "base_uri": "https://localhost:8080/"
        },
        "id": "AVIEc025gzm0",
        "outputId": "61e8ed8d-7ae8-45b6-e8d6-c4a68544a520"
      },
      "source": [
        "#the true result series\n",
        "true_result.tail()"
      ],
      "execution_count": 5,
      "outputs": [
        {
          "output_type": "execute_result",
          "data": {
            "text/plain": [
              "Brighton and Hove Albion - Watford    1\n",
              "Southampton - Manchester United       X\n",
              "Wolverhampton - Tottenham Hotspur     2\n",
              "Arsenal - Chelsea                     2\n",
              "West Ham United - Leicester City      1\n",
              "dtype: object"
            ]
          },
          "metadata": {},
          "execution_count": 5
        }
      ]
    },
    {
      "cell_type": "code",
      "metadata": {
        "id": "8RAC0NchbTt5"
      },
      "source": [
        "#compute the losses!\n",
        "log_loss = compute_1x2_log_loss(probabilities.tail(50),true_result.tail(50))\n",
        "hit_ratio = compute_1x2_hit_ratio(probabilities.tail(50),true_result.tail(50))\n",
        "number_of_matches = probabilities.shape[0]"
      ],
      "execution_count": 6,
      "outputs": []
    },
    {
      "cell_type": "code",
      "metadata": {
        "colab": {
          "base_uri": "https://localhost:8080/"
        },
        "id": "xVj20EzJY51j",
        "outputId": "3f8d516f-710f-499d-eb2f-bbfc348c7c4c"
      },
      "source": [
        "print(f'The log-loss for the {number_of_matches} matches is {np.round(log_loss,3)} and the hit-ratio is {hit_ratio*100}%')"
      ],
      "execution_count": 9,
      "outputs": [
        {
          "output_type": "stream",
          "name": "stdout",
          "text": [
            "The log-loss for the 1920 matches is -1.246 and the hit-ratio is 46.0%\n"
          ]
        }
      ]
    }
  ]
}