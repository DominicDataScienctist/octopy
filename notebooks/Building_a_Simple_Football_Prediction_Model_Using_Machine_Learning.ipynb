{
  "nbformat": 4,
  "nbformat_minor": 0,
  "metadata": {
    "colab": {
      "name": "Building a Simple Football Prediction Model Using Machine Learning",
      "provenance": [],
      "collapsed_sections": []
    },
    "kernelspec": {
      "name": "python3",
      "display_name": "Python 3"
    },
    "language_info": {
      "name": "python"
    }
  },
  "cells": [
    {
      "cell_type": "markdown",
      "metadata": {
        "id": "fRetrdKu_sPZ"
      },
      "source": [
        "This notebook shows an example of the model presented in the following [Medium article](https://medium.com/@octosport)."
      ]
    },
    {
      "cell_type": "code",
      "metadata": {
        "colab": {
          "base_uri": "https://localhost:8080/"
        },
        "id": "Wqa6jkgzOGCQ",
        "outputId": "da99389f-8463-4da9-ab57-d08933fafb27"
      },
      "source": [
        "!pip install git+https://github.com/octosport/octopy.git"
      ],
      "execution_count": 1,
      "outputs": [
        {
          "output_type": "stream",
          "text": [
            "Collecting git+https://github.com/octosport/octopy.git\n",
            "  Cloning https://github.com/octosport/octopy.git to /tmp/pip-req-build-9pn6zf9u\n",
            "  Running command git clone -q https://github.com/octosport/octopy.git /tmp/pip-req-build-9pn6zf9u\n",
            "Requirement already satisfied: pandas>=1.1.3 in /usr/local/lib/python3.7/dist-packages (from octopy==1.0.0) (1.1.5)\n",
            "Requirement already satisfied: scipy>=1.5.2 in /usr/local/lib/python3.7/dist-packages (from octopy==1.0.0) (1.7.1)\n",
            "Requirement already satisfied: scikit-learn>=0.23.2 in /usr/local/lib/python3.7/dist-packages (from octopy==1.0.0) (0.24.2)\n",
            "Requirement already satisfied: pytz>=2017.2 in /usr/local/lib/python3.7/dist-packages (from pandas>=1.1.3->octopy==1.0.0) (2018.9)\n",
            "Requirement already satisfied: numpy>=1.15.4 in /usr/local/lib/python3.7/dist-packages (from pandas>=1.1.3->octopy==1.0.0) (1.19.5)\n",
            "Requirement already satisfied: python-dateutil>=2.7.3 in /usr/local/lib/python3.7/dist-packages (from pandas>=1.1.3->octopy==1.0.0) (2.8.2)\n",
            "Requirement already satisfied: six>=1.5 in /usr/local/lib/python3.7/dist-packages (from python-dateutil>=2.7.3->pandas>=1.1.3->octopy==1.0.0) (1.15.0)\n",
            "Requirement already satisfied: threadpoolctl>=2.0.0 in /usr/local/lib/python3.7/dist-packages (from scikit-learn>=0.23.2->octopy==1.0.0) (2.2.0)\n",
            "Requirement already satisfied: joblib>=0.11 in /usr/local/lib/python3.7/dist-packages (from scikit-learn>=0.23.2->octopy==1.0.0) (1.0.1)\n"
          ],
          "name": "stdout"
        }
      ]
    },
    {
      "cell_type": "code",
      "metadata": {
        "id": "gIAXUSc5Okpl"
      },
      "source": [
        "import pandas as pd\n",
        "import datetime\n",
        "from octopy.logistic_model import LogisticModel"
      ],
      "execution_count": 10,
      "outputs": []
    },
    {
      "cell_type": "code",
      "metadata": {
        "id": "J21g-QkFVvzs"
      },
      "source": [
        "#get English premier league dataset\n",
        "data = pd.read_csv('https://raw.githubusercontent.com/octosport/octopy/master/octopy/data/epl.csv')"
      ],
      "execution_count": 11,
      "outputs": []
    },
    {
      "cell_type": "code",
      "metadata": {
        "id": "A57yToDROlIl"
      },
      "source": [
        "\n",
        "#get the data in the train date range\n",
        "data.date = pd.DatetimeIndex(data.date)  \n",
        "data_train = data.loc[(data.date < datetime.datetime(2021,3,1)) & (data.date >= (datetime.datetime(2018,3,4)))]\n",
        "\n",
        "#train the model\n",
        "model = LogisticModel()\n",
        "model.fit(data_train.home,data_train.away,data_train.home_goals,data_train.away_goals)"
      ],
      "execution_count": 12,
      "outputs": []
    },
    {
      "cell_type": "code",
      "metadata": {
        "colab": {
          "base_uri": "https://localhost:8080/",
          "height": 390
        },
        "id": "TKn6uZr5PdsC",
        "outputId": "96eb48b3-931c-469d-8ffd-25dd3badfb8c"
      },
      "source": [
        "#get the table from the \n",
        "teams_coef = model.get_coef()[['home wins']].sort_values('home wins',ascending=False) .round(2)\n",
        "teams_coef.index = [x[0] for x in teams_coef.index.values.ravel()]\n",
        "\n",
        "teams_coef = teams_coef.head(5).append(pd.DataFrame('...',index=['...'],columns=['home wins'])).append(teams_coef.tail(5))\n",
        "teams_coef"
      ],
      "execution_count": 13,
      "outputs": [
        {
          "output_type": "execute_result",
          "data": {
            "text/html": [
              "<div>\n",
              "<style scoped>\n",
              "    .dataframe tbody tr th:only-of-type {\n",
              "        vertical-align: middle;\n",
              "    }\n",
              "\n",
              "    .dataframe tbody tr th {\n",
              "        vertical-align: top;\n",
              "    }\n",
              "\n",
              "    .dataframe thead th {\n",
              "        text-align: right;\n",
              "    }\n",
              "</style>\n",
              "<table border=\"1\" class=\"dataframe\">\n",
              "  <thead>\n",
              "    <tr style=\"text-align: right;\">\n",
              "      <th></th>\n",
              "      <th>home wins</th>\n",
              "    </tr>\n",
              "  </thead>\n",
              "  <tbody>\n",
              "    <tr>\n",
              "      <th>home_Manchester City</th>\n",
              "      <td>1.63</td>\n",
              "    </tr>\n",
              "    <tr>\n",
              "      <th>home_Liverpool</th>\n",
              "      <td>1.61</td>\n",
              "    </tr>\n",
              "    <tr>\n",
              "      <th>away_Norwich City</th>\n",
              "      <td>1</td>\n",
              "    </tr>\n",
              "    <tr>\n",
              "      <th>away_AFC Bournemouth</th>\n",
              "      <td>0.75</td>\n",
              "    </tr>\n",
              "    <tr>\n",
              "      <th>home_Arsenal</th>\n",
              "      <td>0.7</td>\n",
              "    </tr>\n",
              "    <tr>\n",
              "      <th>...</th>\n",
              "      <td>...</td>\n",
              "    </tr>\n",
              "    <tr>\n",
              "      <th>home_Stoke City</th>\n",
              "      <td>-0.96</td>\n",
              "    </tr>\n",
              "    <tr>\n",
              "      <th>away_Manchester United</th>\n",
              "      <td>-1.1</td>\n",
              "    </tr>\n",
              "    <tr>\n",
              "      <th>away_Manchester City</th>\n",
              "      <td>-1.35</td>\n",
              "    </tr>\n",
              "    <tr>\n",
              "      <th>home_Huddersfield Town</th>\n",
              "      <td>-1.37</td>\n",
              "    </tr>\n",
              "    <tr>\n",
              "      <th>away_Liverpool</th>\n",
              "      <td>-1.53</td>\n",
              "    </tr>\n",
              "  </tbody>\n",
              "</table>\n",
              "</div>"
            ],
            "text/plain": [
              "                       home wins\n",
              "home_Manchester City        1.63\n",
              "home_Liverpool              1.61\n",
              "away_Norwich City              1\n",
              "away_AFC Bournemouth        0.75\n",
              "home_Arsenal                 0.7\n",
              "...                          ...\n",
              "home_Stoke City            -0.96\n",
              "away_Manchester United      -1.1\n",
              "away_Manchester City       -1.35\n",
              "home_Huddersfield Town     -1.37\n",
              "away_Liverpool             -1.53"
            ]
          },
          "metadata": {},
          "execution_count": 13
        }
      ]
    }
  ]
}